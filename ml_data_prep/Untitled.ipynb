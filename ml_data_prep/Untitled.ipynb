{
 "cells": [
  {
   "cell_type": "code",
   "execution_count": 3,
   "id": "02686ef0-c261-48e4-b330-c04022beee79",
   "metadata": {},
   "outputs": [],
   "source": [
    "# Import libraries\n",
    "import numpy as np\n",
    "import pandas as pd\n",
    "from obspy import read\n",
    "from datetime import datetime, timedelta\n",
    "import matplotlib.pyplot as plt\n",
    "import os\n",
    "import tqdm\n"
   ]
  },
  {
   "cell_type": "code",
   "execution_count": 2,
   "id": "2efed3eb-c342-459f-8747-96217117705b",
   "metadata": {},
   "outputs": [
    {
     "name": "stdout",
     "output_type": "stream",
     "text": [
      "Collecting tqdm\n",
      "  Downloading tqdm-4.66.5-py3-none-any.whl (78 kB)\n",
      "\u001b[K     |████████████████████████████████| 78 kB 2.3 MB/s eta 0:00:01\n",
      "\u001b[?25hInstalling collected packages: tqdm\n",
      "\u001b[33m  WARNING: The script tqdm is installed in '/opt/python3.10/bin' which is not on PATH.\n",
      "  Consider adding this directory to PATH or, if you prefer to suppress this warning, use --no-warn-script-location.\u001b[0m\n",
      "Successfully installed tqdm-4.66.5\n",
      "\u001b[33mWARNING: Running pip as the 'root' user can result in broken permissions and conflicting behaviour with the system package manager. It is recommended to use a virtual environment instead: https://pip.pypa.io/warnings/venv\u001b[0m\n",
      "\u001b[33mWARNING: You are using pip version 21.2.3; however, version 24.2 is available.\n",
      "You should consider upgrading via the '/usr/bin/python -m pip install --upgrade pip' command.\u001b[0m\n"
     ]
    }
   ],
   "source": [
    "!python -m pip install tqdm"
   ]
  },
  {
   "cell_type": "code",
   "execution_count": 7,
   "id": "f8a9b6bb-87b5-449c-a4c0-83e865b933dc",
   "metadata": {},
   "outputs": [
    {
     "name": "stderr",
     "output_type": "stream",
     "text": [
      " 26%|█████████████████████▊                                                             | 20/76 [00:12<00:33,  1.68it/s]"
     ]
    },
    {
     "name": "stdout",
     "output_type": "stream",
     "text": [
      "./space_apps_2024_seismic_detection/data/lunar/training/data/S12_GradeA/xa.s12.00.mhz.1971-04-13HR00_evid00029.csv not found...\n"
     ]
    },
    {
     "name": "stderr",
     "output_type": "stream",
     "text": [
      "100%|███████████████████████████████████████████████████████████████████████████████████| 76/76 [00:48<00:00,  1.58it/s]\n"
     ]
    }
   ],
   "source": [
    "import pandas as pd\n",
    "import tqdm\n",
    "\n",
    "def load_data(base_data_path):\n",
    "\n",
    "    cat_file = os.path.join(base_data_path, \"lunar\", \"training\", \"catalogs\", 'apollo12_catalog_GradeA_final.csv')\n",
    "    cat = pd.read_csv(cat_file)\n",
    "    \n",
    "    l = []\n",
    "    data_id = 0\n",
    "    for x in tqdm.tqdm(cat.to_dict(orient='records')):\n",
    "        v = {}\n",
    "        v['label'] = x['time_rel(sec)']\n",
    "        v['meta'] = f\"evid={x['evid']};mq_type={x['mq_type']};filename={x['filename']}\"\n",
    "        v['ID'] = data_id\n",
    "        data_id += 1\n",
    "\n",
    "        data_path = os.path.join(base_data_path, \"lunar\", \"training\", \"data\", \"S12_GradeA\")\n",
    "        data_path = os.path.join(data_path, x['filename'] + '.csv')\n",
    "        if not os.path.isfile(data_path):\n",
    "            print(data_path, 'not found...')\n",
    "            continue\n",
    "\n",
    "        data_cat = pd.read_csv(data_path)\n",
    "        data_time_arr = data_cat[\"time_rel(sec)\"]\n",
    "        data_velocity_arr = data_cat[\"velocity(m/s)\"]\n",
    "    \n",
    "        v['data_time_arr'] = data_time_arr.values\n",
    "        v['data_arr'] = data_velocity_arr.values\n",
    "    \n",
    "        closest_index = (data_time_arr - v['label']).abs().argmin()\n",
    "        label_arr = np.zeros_like(data_time_arr)\n",
    "        label_arr[closest_index] = 1\n",
    "        \n",
    "        v['label_index'] = closest_index\n",
    "        v['label_arr'] = label_arr\n",
    "    \n",
    "        l.append(v)\n",
    "\n",
    "    df = pd.DataFrame(l)\n",
    "    df = df[['ID', 'data_time_arr', 'data_arr', 'label', 'label_index', 'label_arr', 'meta']]\n",
    "\n",
    "    return df\n",
    "\n",
    "\n",
    "df = load_data(\"./space_apps_2024_seismic_detection/data/\")"
   ]
  },
  {
   "cell_type": "code",
   "execution_count": 8,
   "id": "05f9acfd-2c9b-43ce-aafe-620e13bac3c0",
   "metadata": {},
   "outputs": [
    {
     "data": {
      "text/html": [
       "<div>\n",
       "<style scoped>\n",
       "    .dataframe tbody tr th:only-of-type {\n",
       "        vertical-align: middle;\n",
       "    }\n",
       "\n",
       "    .dataframe tbody tr th {\n",
       "        vertical-align: top;\n",
       "    }\n",
       "\n",
       "    .dataframe thead th {\n",
       "        text-align: right;\n",
       "    }\n",
       "</style>\n",
       "<table border=\"1\" class=\"dataframe\">\n",
       "  <thead>\n",
       "    <tr style=\"text-align: right;\">\n",
       "      <th></th>\n",
       "      <th>ID</th>\n",
       "      <th>data_time_arr</th>\n",
       "      <th>data_arr</th>\n",
       "      <th>label</th>\n",
       "      <th>label_index</th>\n",
       "      <th>label_arr</th>\n",
       "      <th>meta</th>\n",
       "    </tr>\n",
       "  </thead>\n",
       "  <tbody>\n",
       "    <tr>\n",
       "      <th>0</th>\n",
       "      <td>0</td>\n",
       "      <td>[0.0, 0.1509433962264151, 0.3018867924528302, ...</td>\n",
       "      <td>[-6.153278962788711e-14, -7.70128843364098e-14...</td>\n",
       "      <td>73500.0</td>\n",
       "      <td>486937</td>\n",
       "      <td>[0.0, 0.0, 0.0, 0.0, 0.0, 0.0, 0.0, 0.0, 0.0, ...</td>\n",
       "      <td>evid=evid00002;mq_type=impact_mq;filename=xa.s...</td>\n",
       "    </tr>\n",
       "    <tr>\n",
       "      <th>1</th>\n",
       "      <td>1</td>\n",
       "      <td>[0.0, 0.1509433962264151, 0.3018867924528302, ...</td>\n",
       "      <td>[-5.481780117043957e-15, -6.878652555543394e-1...</td>\n",
       "      <td>12720.0</td>\n",
       "      <td>84270</td>\n",
       "      <td>[0.0, 0.0, 0.0, 0.0, 0.0, 0.0, 0.0, 0.0, 0.0, ...</td>\n",
       "      <td>evid=evid00003;mq_type=impact_mq;filename=xa.s...</td>\n",
       "    </tr>\n",
       "    <tr>\n",
       "      <th>2</th>\n",
       "      <td>2</td>\n",
       "      <td>[0.0, 0.1509433962264151, 0.3018867924528302, ...</td>\n",
       "      <td>[-2.8212463353274303e-14, -3.5233170652581576e...</td>\n",
       "      <td>73020.0</td>\n",
       "      <td>483757</td>\n",
       "      <td>[0.0, 0.0, 0.0, 0.0, 0.0, 0.0, 0.0, 0.0, 0.0, ...</td>\n",
       "      <td>evid=evid00004;mq_type=impact_mq;filename=xa.s...</td>\n",
       "    </tr>\n",
       "    <tr>\n",
       "      <th>3</th>\n",
       "      <td>3</td>\n",
       "      <td>[0.0, 0.1509433962264151, 0.3018867924528302, ...</td>\n",
       "      <td>[9.01642264710853e-15, 1.1305708384819468e-14,...</td>\n",
       "      <td>4440.0</td>\n",
       "      <td>29415</td>\n",
       "      <td>[0.0, 0.0, 0.0, 0.0, 0.0, 0.0, 0.0, 0.0, 0.0, ...</td>\n",
       "      <td>evid=evid00006;mq_type=impact_mq;filename=xa.s...</td>\n",
       "    </tr>\n",
       "    <tr>\n",
       "      <th>4</th>\n",
       "      <td>4</td>\n",
       "      <td>[0.0, 0.1509433962264151, 0.3018867924528302, ...</td>\n",
       "      <td>[-1.5835653822406575e-16, -1.8729952083938926e...</td>\n",
       "      <td>52140.0</td>\n",
       "      <td>345427</td>\n",
       "      <td>[0.0, 0.0, 0.0, 0.0, 0.0, 0.0, 0.0, 0.0, 0.0, ...</td>\n",
       "      <td>evid=evid00007;mq_type=deep_mq;filename=xa.s12...</td>\n",
       "    </tr>\n",
       "    <tr>\n",
       "      <th>...</th>\n",
       "      <td>...</td>\n",
       "      <td>...</td>\n",
       "      <td>...</td>\n",
       "      <td>...</td>\n",
       "      <td>...</td>\n",
       "      <td>...</td>\n",
       "      <td>...</td>\n",
       "    </tr>\n",
       "    <tr>\n",
       "      <th>70</th>\n",
       "      <td>71</td>\n",
       "      <td>[0.0, 0.1509433962264151, 0.3018867924528302, ...</td>\n",
       "      <td>[-2.4861784401436684e-16, -3.2007144155342813e...</td>\n",
       "      <td>63780.0</td>\n",
       "      <td>422542</td>\n",
       "      <td>[0.0, 0.0, 0.0, 0.0, 0.0, 0.0, 0.0, 0.0, 0.0, ...</td>\n",
       "      <td>evid=evid00156;mq_type=impact_mq;filename=xa.s...</td>\n",
       "    </tr>\n",
       "    <tr>\n",
       "      <th>71</th>\n",
       "      <td>72</td>\n",
       "      <td>[0.0, 0.1509433962264151, 0.3018867924528302, ...</td>\n",
       "      <td>[2.3556678310214223e-14, 2.4452362696271054e-1...</td>\n",
       "      <td>65700.0</td>\n",
       "      <td>435262</td>\n",
       "      <td>[0.0, 0.0, 0.0, 0.0, 0.0, 0.0, 0.0, 0.0, 0.0, ...</td>\n",
       "      <td>evid=evid00191;mq_type=impact_mq;filename=xa.s...</td>\n",
       "    </tr>\n",
       "    <tr>\n",
       "      <th>72</th>\n",
       "      <td>73</td>\n",
       "      <td>[0.0, 0.1509433962264151, 0.3018867924528302, ...</td>\n",
       "      <td>[8.378883424796289e-17, 7.740468608984878e-17,...</td>\n",
       "      <td>36300.0</td>\n",
       "      <td>240487</td>\n",
       "      <td>[0.0, 0.0, 0.0, 0.0, 0.0, 0.0, 0.0, 0.0, 0.0, ...</td>\n",
       "      <td>evid=evid00192;mq_type=impact_mq;filename=xa.s...</td>\n",
       "    </tr>\n",
       "    <tr>\n",
       "      <th>73</th>\n",
       "      <td>74</td>\n",
       "      <td>[0.0, 0.1509433962264151, 0.3018867924528302, ...</td>\n",
       "      <td>[1.1799114775093931e-14, 1.4887247521375698e-1...</td>\n",
       "      <td>57780.0</td>\n",
       "      <td>382792</td>\n",
       "      <td>[0.0, 0.0, 0.0, 0.0, 0.0, 0.0, 0.0, 0.0, 0.0, ...</td>\n",
       "      <td>evid=evid00196;mq_type=impact_mq;filename=xa.s...</td>\n",
       "    </tr>\n",
       "    <tr>\n",
       "      <th>74</th>\n",
       "      <td>75</td>\n",
       "      <td>[0.0, 0.1509433962264151, 0.3018867924528302, ...</td>\n",
       "      <td>[-1.9326934105946288e-15, -2.4173743073764858e...</td>\n",
       "      <td>12240.0</td>\n",
       "      <td>81090</td>\n",
       "      <td>[0.0, 0.0, 0.0, 0.0, 0.0, 0.0, 0.0, 0.0, 0.0, ...</td>\n",
       "      <td>evid=evid00198;mq_type=impact_mq;filename=xa.s...</td>\n",
       "    </tr>\n",
       "  </tbody>\n",
       "</table>\n",
       "<p>75 rows × 7 columns</p>\n",
       "</div>"
      ],
      "text/plain": [
       "    ID                                      data_time_arr  \\\n",
       "0    0  [0.0, 0.1509433962264151, 0.3018867924528302, ...   \n",
       "1    1  [0.0, 0.1509433962264151, 0.3018867924528302, ...   \n",
       "2    2  [0.0, 0.1509433962264151, 0.3018867924528302, ...   \n",
       "3    3  [0.0, 0.1509433962264151, 0.3018867924528302, ...   \n",
       "4    4  [0.0, 0.1509433962264151, 0.3018867924528302, ...   \n",
       "..  ..                                                ...   \n",
       "70  71  [0.0, 0.1509433962264151, 0.3018867924528302, ...   \n",
       "71  72  [0.0, 0.1509433962264151, 0.3018867924528302, ...   \n",
       "72  73  [0.0, 0.1509433962264151, 0.3018867924528302, ...   \n",
       "73  74  [0.0, 0.1509433962264151, 0.3018867924528302, ...   \n",
       "74  75  [0.0, 0.1509433962264151, 0.3018867924528302, ...   \n",
       "\n",
       "                                             data_arr    label  label_index  \\\n",
       "0   [-6.153278962788711e-14, -7.70128843364098e-14...  73500.0       486937   \n",
       "1   [-5.481780117043957e-15, -6.878652555543394e-1...  12720.0        84270   \n",
       "2   [-2.8212463353274303e-14, -3.5233170652581576e...  73020.0       483757   \n",
       "3   [9.01642264710853e-15, 1.1305708384819468e-14,...   4440.0        29415   \n",
       "4   [-1.5835653822406575e-16, -1.8729952083938926e...  52140.0       345427   \n",
       "..                                                ...      ...          ...   \n",
       "70  [-2.4861784401436684e-16, -3.2007144155342813e...  63780.0       422542   \n",
       "71  [2.3556678310214223e-14, 2.4452362696271054e-1...  65700.0       435262   \n",
       "72  [8.378883424796289e-17, 7.740468608984878e-17,...  36300.0       240487   \n",
       "73  [1.1799114775093931e-14, 1.4887247521375698e-1...  57780.0       382792   \n",
       "74  [-1.9326934105946288e-15, -2.4173743073764858e...  12240.0        81090   \n",
       "\n",
       "                                            label_arr  \\\n",
       "0   [0.0, 0.0, 0.0, 0.0, 0.0, 0.0, 0.0, 0.0, 0.0, ...   \n",
       "1   [0.0, 0.0, 0.0, 0.0, 0.0, 0.0, 0.0, 0.0, 0.0, ...   \n",
       "2   [0.0, 0.0, 0.0, 0.0, 0.0, 0.0, 0.0, 0.0, 0.0, ...   \n",
       "3   [0.0, 0.0, 0.0, 0.0, 0.0, 0.0, 0.0, 0.0, 0.0, ...   \n",
       "4   [0.0, 0.0, 0.0, 0.0, 0.0, 0.0, 0.0, 0.0, 0.0, ...   \n",
       "..                                                ...   \n",
       "70  [0.0, 0.0, 0.0, 0.0, 0.0, 0.0, 0.0, 0.0, 0.0, ...   \n",
       "71  [0.0, 0.0, 0.0, 0.0, 0.0, 0.0, 0.0, 0.0, 0.0, ...   \n",
       "72  [0.0, 0.0, 0.0, 0.0, 0.0, 0.0, 0.0, 0.0, 0.0, ...   \n",
       "73  [0.0, 0.0, 0.0, 0.0, 0.0, 0.0, 0.0, 0.0, 0.0, ...   \n",
       "74  [0.0, 0.0, 0.0, 0.0, 0.0, 0.0, 0.0, 0.0, 0.0, ...   \n",
       "\n",
       "                                                 meta  \n",
       "0   evid=evid00002;mq_type=impact_mq;filename=xa.s...  \n",
       "1   evid=evid00003;mq_type=impact_mq;filename=xa.s...  \n",
       "2   evid=evid00004;mq_type=impact_mq;filename=xa.s...  \n",
       "3   evid=evid00006;mq_type=impact_mq;filename=xa.s...  \n",
       "4   evid=evid00007;mq_type=deep_mq;filename=xa.s12...  \n",
       "..                                                ...  \n",
       "70  evid=evid00156;mq_type=impact_mq;filename=xa.s...  \n",
       "71  evid=evid00191;mq_type=impact_mq;filename=xa.s...  \n",
       "72  evid=evid00192;mq_type=impact_mq;filename=xa.s...  \n",
       "73  evid=evid00196;mq_type=impact_mq;filename=xa.s...  \n",
       "74  evid=evid00198;mq_type=impact_mq;filename=xa.s...  \n",
       "\n",
       "[75 rows x 7 columns]"
      ]
     },
     "execution_count": 8,
     "metadata": {},
     "output_type": "execute_result"
    }
   ],
   "source": [
    "df"
   ]
  },
  {
   "cell_type": "code",
   "execution_count": 33,
   "id": "c5b6dbbf-fc57-4258-a318-21a59df775c5",
   "metadata": {},
   "outputs": [
    {
     "name": "stdout",
     "output_type": "stream",
     "text": [
      "{'ID': 0, 'data_time_arr': array([0.00000000e+00, 1.50943396e-01, 3.01886792e-01, ...,\n",
      "       8.64018113e+04, 8.64019623e+04, 8.64021132e+04]), 'data_arr': array([-6.15327896e-14, -7.70128843e-14, -8.39618673e-14, ...,\n",
      "       -2.24030684e-14, -2.99840543e-14, -4.46551537e-14]), 'label': 73500.0, 'label_index': 486937, 'label_arr': array([0., 0., 0., ..., 0., 0., 0.]), 'meta': 'evid=evid00002;mq_type=impact_mq;filename=xa.s12.00.mhz.1970-01-19HR00_evid00002'}\n"
     ]
    }
   ],
   "source": [
    "for x in df.to_dict(orient='records'):\n",
    "    print(x)\n",
    "    break\n"
   ]
  },
  {
   "cell_type": "code",
   "execution_count": 41,
   "id": "c81ab20b-02c5-4fde-886d-d5a75309f6dd",
   "metadata": {},
   "outputs": [
    {
     "name": "stdout",
     "output_type": "stream",
     "text": [
      "   ID    label     Pred\n",
      "0   0  73500.0  73500.0\n",
      "1   1  12720.0  12720.0\n",
      "2   2  73020.0  73020.0\n"
     ]
    },
    {
     "data": {
      "text/plain": [
       "0.0"
      ]
     },
     "execution_count": 41,
     "metadata": {},
     "output_type": "execute_result"
    }
   ],
   "source": [
    "\n",
    "def compute_metrics(df, df_pred):\n",
    "    x1 = df[['ID', 'label']]\n",
    "    x2 = df_pred[['ID', 'Pred']]\n",
    "\n",
    "    tmp_df = x1.merge(df_pred, on='ID')\n",
    "    print(tmp_df)\n",
    "\n",
    "    tmp_df['error'] = (tmp_df['label'] - tmp_df['Pred']).abs()\n",
    "\n",
    "    return tmp_df['error'].mean().item()\n",
    "\n"
   ]
  }
 ],
 "metadata": {
  "kernelspec": {
   "display_name": "Python 3 (ipykernel)",
   "language": "python",
   "name": "python3"
  },
  "language_info": {
   "codemirror_mode": {
    "name": "ipython",
    "version": 3
   },
   "file_extension": ".py",
   "mimetype": "text/x-python",
   "name": "python",
   "nbconvert_exporter": "python",
   "pygments_lexer": "ipython3",
   "version": "3.10.0"
  }
 },
 "nbformat": 4,
 "nbformat_minor": 5
}
